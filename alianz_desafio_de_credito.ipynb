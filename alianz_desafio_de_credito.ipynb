{
 "cells": [
  {
   "cell_type": "markdown",
   "id": "handmade-northwest",
   "metadata": {},
   "source": [
    "# Desafio do Crédito\n",
    "\n",
    "## Visão geral do Desafio\n",
    "Como empresa de crédito, é importante saber de antemão quem é capaz de pagar seus empréstimos e quem não é. O objetivo deste desafio é analisar dados e criar um modelo para descobrir quais clientes são capazes de honrar suas dívidas.\n",
    "\n",
    "## Estrutura\n",
    "Os dados para o desafio estão no arquivo desafio_de_crédito.csv.\n",
    "A inadimplência é identificada pela variável default no conjunto de dados de treinamento. As demais variáveis devem ser interpretadas, essa parte também faz parte da avaliação.\n",
    "Seu objetivo é analisar os dados, prever a probabilidade de inadimplência e propor uma política de concessão de crédito com base nos dados. Uma política de concessão é a definição de quais clientes serão aprovados, e quais serão reprovados, na análise de crédito, com base em um critério racional.\n",
    "\n",
    "## Entregável\n",
    "1) Apresentação com explicação do eu você fez, incluindo metodologia, abordagem e conclusões.\n",
    "2) Análise exploratória de dados, com principais descobertas, observações e padrões identificados nos dados.\n",
    "3) Modelo preditivo e sugestão de política de crédito, incluindo descrição de funcionamento, justificativa de uso de cada técnica, performance esperada e resultados obtidos.\n",
    "4) Códigos utilizados na análise, com instruções de uso, por exemplo, linguagem de programação, comandos para executar, dependências necessárias...\n",
    "5) Arquivo chamado predictions.csv com as previsões realizadas, e sugestão de aprovação ou reprovação do crédito.\n",
    "\n",
    "## O que avaliaremos\n",
    "Sua capacidade de:\n",
    "1) manipular / limpar dados\n",
    "2) identificar padrões e analisar dados\n",
    "3) escrever código de boa qualidade (por exemplo, reproduzível, legível)\n",
    "4) aplicar modelos de aprendizado de máquina a problemas reais\n",
    "5) realizar uma análise de crédito\n",
    "6) dividir problemas complexos e reais em partes solucionáveis\n",
    "7) explicar uma análise complexa através de uma história simples"
   ]
  },
  {
   "cell_type": "markdown",
   "id": "interracial-defense",
   "metadata": {},
   "source": [
    "#### Bibliotecas"
   ]
  },
  {
   "cell_type": "code",
   "execution_count": 1,
   "id": "found-rating",
   "metadata": {},
   "outputs": [],
   "source": [
    "import pandas as pd # dataframe manipulation\n",
    "import numpy as np #matrix manipulation\n",
    "import matplotlib.pyplot as plt # graph plot\n",
    "import seaborn as sns # beautiful graphs\n",
    "import warnings\n",
    "warnings.filterwarnings('ignore')\n",
    "\n",
    "from sklearn import preprocessing\n",
    "from sklearn import metrics\n",
    "from sklearn.ensemble import RandomForestClassifier\n",
    "from sklearn.linear_model import LogisticRegression\n",
    "from sklearn.tree import DecisionTreeClassifier\n",
    "from sklearn.metrics import confusion_matrix\n",
    "from sklearn.preprocessing import MinMaxScaler\n",
    "from sklearn.model_selection import train_test_split, RandomizedSearchCV, cross_val_score\n",
    "from sklearn.metrics import roc_auc_score, precision_score, recall_score, classification_report"
   ]
  },
  {
   "cell_type": "markdown",
   "id": "bottom-native",
   "metadata": {},
   "source": [
    "#### Leitura do DataFrame"
   ]
  },
  {
   "cell_type": "code",
   "execution_count": 2,
   "id": "activated-comedy",
   "metadata": {},
   "outputs": [],
   "source": [
    "df = pd.read_csv(\"desafio_de_credito.csv\", sep=\",\")"
   ]
  },
  {
   "cell_type": "markdown",
   "id": "accepted-roulette",
   "metadata": {},
   "source": [
    "#### Info do DataFrame"
   ]
  },
  {
   "cell_type": "code",
   "execution_count": 3,
   "id": "casual-letter",
   "metadata": {},
   "outputs": [
    {
     "name": "stdout",
     "output_type": "stream",
     "text": [
      "<class 'pandas.core.frame.DataFrame'>\n",
      "RangeIndex: 64592 entries, 0 to 64591\n",
      "Data columns (total 28 columns):\n",
      " #   Column             Non-Null Count  Dtype  \n",
      "---  ------             --------------  -----  \n",
      " 0   id                 64592 non-null  object \n",
      " 1   default            59966 non-null  object \n",
      " 2   risk               63807 non-null  float64\n",
      " 3   var_a              63807 non-null  float64\n",
      " 4   var_b              64592 non-null  float64\n",
      " 5   var_c              64592 non-null  float64\n",
      " 6   var_d              63807 non-null  object \n",
      " 7   var_e              63807 non-null  object \n",
      " 8   var_f              64592 non-null  object \n",
      " 9   borrowed           63807 non-null  object \n",
      " 10  months             63807 non-null  float64\n",
      " 11  limit              44840 non-null  float64\n",
      " 12  reason             63800 non-null  object \n",
      " 13  income             63807 non-null  object \n",
      " 14  sign               43826 non-null  object \n",
      " 15  sex                57405 non-null  object \n",
      " 16  social_network     58185 non-null  object \n",
      " 17  state              63807 non-null  object \n",
      " 18  zipcode            63807 non-null  object \n",
      " 19  channel            63807 non-null  object \n",
      " 20  job_name           59797 non-null  object \n",
      " 21  real_state         63807 non-null  object \n",
      " 22  ok_since           26554 non-null  object \n",
      " 23  n_bankruptcies     63605 non-null  float64\n",
      " 24  n_defaulted_loans  63789 non-null  float64\n",
      " 25  n_accounts         63807 non-null  float64\n",
      " 26  n_issues           48142 non-null  float64\n",
      " 27  Unnamed: 27        1 non-null      float64\n",
      "dtypes: float64(11), object(17)\n",
      "memory usage: 13.8+ MB\n"
     ]
    }
   ],
   "source": [
    "df.info() #conhecer dataframe: columns, non-null count, dtype"
   ]
  },
  {
   "cell_type": "markdown",
   "id": "decimal-bandwidth",
   "metadata": {},
   "source": [
    "#### Função p/ verificar quantidade de NaNs"
   ]
  },
  {
   "cell_type": "code",
   "execution_count": 4,
   "id": "sweet-journal",
   "metadata": {},
   "outputs": [
    {
     "data": {
      "text/html": [
       "<div>\n",
       "<style scoped>\n",
       "    .dataframe tbody tr th:only-of-type {\n",
       "        vertical-align: middle;\n",
       "    }\n",
       "\n",
       "    .dataframe tbody tr th {\n",
       "        vertical-align: top;\n",
       "    }\n",
       "\n",
       "    .dataframe thead th {\n",
       "        text-align: right;\n",
       "    }\n",
       "</style>\n",
       "<table border=\"1\" class=\"dataframe\">\n",
       "  <thead>\n",
       "    <tr style=\"text-align: right;\">\n",
       "      <th></th>\n",
       "      <th>Total</th>\n",
       "      <th>Per[%]</th>\n",
       "    </tr>\n",
       "  </thead>\n",
       "  <tbody>\n",
       "    <tr>\n",
       "      <th>Unnamed: 27</th>\n",
       "      <td>64591.0</td>\n",
       "      <td>99.998452</td>\n",
       "    </tr>\n",
       "    <tr>\n",
       "      <th>ok_since</th>\n",
       "      <td>38038.0</td>\n",
       "      <td>58.889646</td>\n",
       "    </tr>\n",
       "    <tr>\n",
       "      <th>sign</th>\n",
       "      <td>20766.0</td>\n",
       "      <td>32.149492</td>\n",
       "    </tr>\n",
       "    <tr>\n",
       "      <th>limit</th>\n",
       "      <td>19752.0</td>\n",
       "      <td>30.579638</td>\n",
       "    </tr>\n",
       "    <tr>\n",
       "      <th>n_issues</th>\n",
       "      <td>16450.0</td>\n",
       "      <td>25.467550</td>\n",
       "    </tr>\n",
       "    <tr>\n",
       "      <th>sex</th>\n",
       "      <td>7187.0</td>\n",
       "      <td>11.126765</td>\n",
       "    </tr>\n",
       "    <tr>\n",
       "      <th>social_network</th>\n",
       "      <td>6407.0</td>\n",
       "      <td>9.919185</td>\n",
       "    </tr>\n",
       "    <tr>\n",
       "      <th>job_name</th>\n",
       "      <td>4795.0</td>\n",
       "      <td>7.423520</td>\n",
       "    </tr>\n",
       "    <tr>\n",
       "      <th>default</th>\n",
       "      <td>4626.0</td>\n",
       "      <td>7.161878</td>\n",
       "    </tr>\n",
       "    <tr>\n",
       "      <th>n_bankruptcies</th>\n",
       "      <td>987.0</td>\n",
       "      <td>1.528053</td>\n",
       "    </tr>\n",
       "    <tr>\n",
       "      <th>n_defaulted_loans</th>\n",
       "      <td>803.0</td>\n",
       "      <td>1.243188</td>\n",
       "    </tr>\n",
       "    <tr>\n",
       "      <th>reason</th>\n",
       "      <td>792.0</td>\n",
       "      <td>1.226158</td>\n",
       "    </tr>\n",
       "    <tr>\n",
       "      <th>zipcode</th>\n",
       "      <td>785.0</td>\n",
       "      <td>1.215321</td>\n",
       "    </tr>\n",
       "    <tr>\n",
       "      <th>n_accounts</th>\n",
       "      <td>785.0</td>\n",
       "      <td>1.215321</td>\n",
       "    </tr>\n",
       "    <tr>\n",
       "      <th>risk</th>\n",
       "      <td>785.0</td>\n",
       "      <td>1.215321</td>\n",
       "    </tr>\n",
       "    <tr>\n",
       "      <th>real_state</th>\n",
       "      <td>785.0</td>\n",
       "      <td>1.215321</td>\n",
       "    </tr>\n",
       "    <tr>\n",
       "      <th>channel</th>\n",
       "      <td>785.0</td>\n",
       "      <td>1.215321</td>\n",
       "    </tr>\n",
       "    <tr>\n",
       "      <th>var_a</th>\n",
       "      <td>785.0</td>\n",
       "      <td>1.215321</td>\n",
       "    </tr>\n",
       "    <tr>\n",
       "      <th>state</th>\n",
       "      <td>785.0</td>\n",
       "      <td>1.215321</td>\n",
       "    </tr>\n",
       "    <tr>\n",
       "      <th>income</th>\n",
       "      <td>785.0</td>\n",
       "      <td>1.215321</td>\n",
       "    </tr>\n",
       "    <tr>\n",
       "      <th>months</th>\n",
       "      <td>785.0</td>\n",
       "      <td>1.215321</td>\n",
       "    </tr>\n",
       "    <tr>\n",
       "      <th>borrowed</th>\n",
       "      <td>785.0</td>\n",
       "      <td>1.215321</td>\n",
       "    </tr>\n",
       "    <tr>\n",
       "      <th>var_e</th>\n",
       "      <td>785.0</td>\n",
       "      <td>1.215321</td>\n",
       "    </tr>\n",
       "    <tr>\n",
       "      <th>var_d</th>\n",
       "      <td>785.0</td>\n",
       "      <td>1.215321</td>\n",
       "    </tr>\n",
       "    <tr>\n",
       "      <th>var_b</th>\n",
       "      <td>0.0</td>\n",
       "      <td>0.000000</td>\n",
       "    </tr>\n",
       "    <tr>\n",
       "      <th>var_f</th>\n",
       "      <td>0.0</td>\n",
       "      <td>0.000000</td>\n",
       "    </tr>\n",
       "    <tr>\n",
       "      <th>var_c</th>\n",
       "      <td>0.0</td>\n",
       "      <td>0.000000</td>\n",
       "    </tr>\n",
       "    <tr>\n",
       "      <th>id</th>\n",
       "      <td>0.0</td>\n",
       "      <td>0.000000</td>\n",
       "    </tr>\n",
       "  </tbody>\n",
       "</table>\n",
       "</div>"
      ],
      "text/plain": [
       "                     Total     Per[%]\n",
       "Unnamed: 27        64591.0  99.998452\n",
       "ok_since           38038.0  58.889646\n",
       "sign               20766.0  32.149492\n",
       "limit              19752.0  30.579638\n",
       "n_issues           16450.0  25.467550\n",
       "sex                 7187.0  11.126765\n",
       "social_network      6407.0   9.919185\n",
       "job_name            4795.0   7.423520\n",
       "default             4626.0   7.161878\n",
       "n_bankruptcies       987.0   1.528053\n",
       "n_defaulted_loans    803.0   1.243188\n",
       "reason               792.0   1.226158\n",
       "zipcode              785.0   1.215321\n",
       "n_accounts           785.0   1.215321\n",
       "risk                 785.0   1.215321\n",
       "real_state           785.0   1.215321\n",
       "channel              785.0   1.215321\n",
       "var_a                785.0   1.215321\n",
       "state                785.0   1.215321\n",
       "income               785.0   1.215321\n",
       "months               785.0   1.215321\n",
       "borrowed             785.0   1.215321\n",
       "var_e                785.0   1.215321\n",
       "var_d                785.0   1.215321\n",
       "var_b                  0.0   0.000000\n",
       "var_f                  0.0   0.000000\n",
       "var_c                  0.0   0.000000\n",
       "id                     0.0   0.000000"
      ]
     },
     "execution_count": 4,
     "metadata": {},
     "output_type": "execute_result"
    }
   ],
   "source": [
    "def total_perc(df, colunas):\n",
    "    total = df.isnull().sum().sort_values(ascending = False)\n",
    "    perc = (df.isnull().sum()/df.isnull().count()*100).sort_values(ascending = False)\n",
    "    result = pd.concat([total, perc], axis=1, keys=['Total', 'Per[%]']).transpose().T\n",
    "    return result\n",
    "\n",
    "total_perc(df, df.columns)"
   ]
  },
  {
   "cell_type": "markdown",
   "id": "strong-looking",
   "metadata": {},
   "source": [
    "#### Drop de linhas assumidas como desnecessárias por hipótese\n",
    "* alto volume de nans\n",
    "* id sem registro de default"
   ]
  },
  {
   "cell_type": "code",
   "execution_count": 5,
   "id": "permanent-demand",
   "metadata": {},
   "outputs": [],
   "source": [
    "df.drop(columns=['Unnamed: 27', 'ok_since', 'sign', 'limit', 'n_issues', 'social_network', 'job_name', 'reason'], inplace=True)\n",
    "df.dropna(subset=['default'], inplace=True)"
   ]
  },
  {
   "cell_type": "markdown",
   "id": "mexican-input",
   "metadata": {},
   "source": [
    "#### Pré-Processamento dos Dados\n",
    "* Avaliar o que é object, float etc."
   ]
  },
  {
   "cell_type": "code",
   "execution_count": 6,
   "id": "economic-sheriff",
   "metadata": {},
   "outputs": [
    {
     "name": "stdout",
     "output_type": "stream",
     "text": [
      "Quantidade de object's: 12.\n",
      "Quantidade de float64's: 8.\n",
      "Quantidade de outros: 0.\n"
     ]
    }
   ],
   "source": [
    "float64_list = []\n",
    "object_list = []\n",
    "others_list = []\n",
    "\n",
    "for coluna in df.columns:\n",
    "    if (df[coluna].dtype == \"object\"):\n",
    "        object_list.append(coluna)\n",
    "    \n",
    "    elif (df[coluna].dtype == \"float64\"):\n",
    "        float64_list.append(coluna)\n",
    "    \n",
    "    else:\n",
    "        others_list.append(coluna)\n",
    "    \n",
    "    object_list_len = len(object_list)\n",
    "    float64_list_len = len(float64_list)\n",
    "    others_list_len = len(others_list)\n",
    "\n",
    "print(\"Quantidade de object's: {}.\".format(object_list_len))\n",
    "print(\"Quantidade de float64's: {}.\".format(float64_list_len))\n",
    "print(\"Quantidade de outros: {}.\".format(others_list_len))"
   ]
  },
  {
   "cell_type": "markdown",
   "id": "signed-therapist",
   "metadata": {},
   "source": [
    "#### Dados Tratados\n",
    "* Transformar para dados numéricos;\n",
    "* Tratar os NaNs em float por média;\n",
    "* Tratar os NaNs em object por moda;\n",
    "* Transformar object para categórico."
   ]
  },
  {
   "cell_type": "code",
   "execution_count": 7,
   "id": "criminal-feelings",
   "metadata": {},
   "outputs": [],
   "source": [
    "df_tratado = df.copy()\n",
    "\n",
    "df_tratado['sex'] = df_tratado['sex'].replace(['m', 'f', 'virg', np.nan], ['male', 'female', 'others', 'others'])\n",
    "\n",
    "cat_list = ['id', 'default', 'var_d', 'var_e', 'state', 'zipcode', \n",
    "            'sex', 'channel', 'real_state']\n",
    "float_list = ['risk', 'var_f', 'borrowed', 'income', 'var_a', 'months', \n",
    "              'n_bankruptcies', 'n_defaulted_loans', 'n_accounts']\n",
    "\n",
    "# ['Unnamed: 27', 'ok_since', 'sign', 'limit', 'n_issues', 'social_network', 'job_name']\n",
    "    \n",
    "for coluna in float_list:\n",
    "    df_tratado[coluna] = pd.to_numeric(df_tratado[coluna], errors='coerce', downcast='float')\n",
    "    df_tratado[coluna].fillna(df_tratado[coluna].mean(), inplace=True)\n",
    "    \n",
    "for coluna in cat_list:\n",
    "    df_tratado[coluna] = df_tratado[coluna].fillna(df_tratado[coluna].mode())\n",
    "    df_tratado[coluna] = df_tratado[coluna].astype('category')"
   ]
  },
  {
   "cell_type": "markdown",
   "id": "cutting-consultation",
   "metadata": {},
   "source": [
    "#### Verificar os dtypes dos atributos"
   ]
  },
  {
   "cell_type": "code",
   "execution_count": 8,
   "id": "ready-appeal",
   "metadata": {},
   "outputs": [
    {
     "name": "stdout",
     "output_type": "stream",
     "text": [
      "<class 'pandas.core.frame.DataFrame'>\n",
      "Int64Index: 59966 entries, 0 to 64591\n",
      "Data columns (total 20 columns):\n",
      " #   Column             Non-Null Count  Dtype   \n",
      "---  ------             --------------  -----   \n",
      " 0   id                 59966 non-null  category\n",
      " 1   default            59966 non-null  category\n",
      " 2   risk               59966 non-null  float32 \n",
      " 3   var_a              59966 non-null  float32 \n",
      " 4   var_b              59966 non-null  float64 \n",
      " 5   var_c              59966 non-null  float64 \n",
      " 6   var_d              59966 non-null  category\n",
      " 7   var_e              59966 non-null  category\n",
      " 8   var_f              59966 non-null  float32 \n",
      " 9   borrowed           59966 non-null  float32 \n",
      " 10  months             59966 non-null  float32 \n",
      " 11  income             59966 non-null  float32 \n",
      " 12  sex                59966 non-null  category\n",
      " 13  state              59966 non-null  category\n",
      " 14  zipcode            59966 non-null  category\n",
      " 15  channel            59966 non-null  category\n",
      " 16  real_state         59966 non-null  category\n",
      " 17  n_bankruptcies     59966 non-null  float32 \n",
      " 18  n_defaulted_loans  59966 non-null  float32 \n",
      " 19  n_accounts         59966 non-null  float32 \n",
      "dtypes: category(9), float32(9), float64(2)\n",
      "memory usage: 6.7 MB\n"
     ]
    }
   ],
   "source": [
    "df_tratado.info()"
   ]
  },
  {
   "cell_type": "markdown",
   "id": "posted-beach",
   "metadata": {},
   "source": [
    "### Aprendizado Supervisionado\n",
    "* Logistic Regression\n",
    "* Random Forest Classifier\n",
    "* XGBoost"
   ]
  },
  {
   "cell_type": "markdown",
   "id": "american-egyptian",
   "metadata": {},
   "source": [
    "#### Exclusão necessária do atributo 'id' que não interferirá, uma vez que os índices são preservados"
   ]
  },
  {
   "cell_type": "code",
   "execution_count": 9,
   "id": "bridal-hypothetical",
   "metadata": {},
   "outputs": [],
   "source": [
    "df_tratado.drop(columns=['id'], inplace=True)"
   ]
  },
  {
   "cell_type": "markdown",
   "id": "attempted-original",
   "metadata": {},
   "source": [
    "### Label Encoder\n",
    "* Variáveis Categóricas"
   ]
  },
  {
   "cell_type": "code",
   "execution_count": 10,
   "id": "excellent-strength",
   "metadata": {},
   "outputs": [],
   "source": [
    "category_columns = ['default', 'var_d', 'var_e', 'state', 'zipcode', 'channel', 'real_state', 'sex'] \n",
    "for coluna in category_columns:\n",
    "    le = preprocessing.LabelEncoder()\n",
    "    le.fit(df_tratado[coluna])\n",
    "    # le.classes_\n",
    "    df_tratado[coluna] = le.transform(df_tratado[coluna])\n",
    "    # le.inverse_transform([0, 0, 1, 2])"
   ]
  },
  {
   "cell_type": "markdown",
   "id": "blocked-tuner",
   "metadata": {},
   "source": [
    "### Logistic Regression"
   ]
  },
  {
   "cell_type": "code",
   "execution_count": 11,
   "id": "entire-angle",
   "metadata": {},
   "outputs": [
    {
     "name": "stdout",
     "output_type": "stream",
     "text": [
      "Tuned Logistic Regression Parameters: {'C': 8.483428982440725e-05}\n",
      "Accuracy: 0.8414207103551776\n",
      "\n",
      "              precision    recall  f1-score   support\n",
      "\n",
      "           0       0.84      1.00      0.91     10092\n",
      "           1       0.00      0.00      0.00      1902\n",
      "\n",
      "    accuracy                           0.84     11994\n",
      "   macro avg       0.42      0.50      0.46     11994\n",
      "weighted avg       0.71      0.84      0.77     11994\n",
      "\n",
      "\n",
      "Average 5-Fold CV Score: 0.8414 , Standard deviation: 0.0\n"
     ]
    },
    {
     "data": {
      "image/png": "[encoded data removed]",
      "text/plain": [
       "<Figure size 288x216 with 2 Axes>"
      ]
     },
     "metadata": {
      "needs_background": "light"
     },
     "output_type": "display_data"
    }
   ],
   "source": [
    "\n",
    "X = df_tratado.drop('default', axis=1)  \n",
    "y = df_tratado['default']\n",
    "\n",
    "X_train, X_test, y_train, y_test = train_test_split(X,y, test_size=0.2, stratify=y, random_state=42)\n",
    "\n",
    "\n",
    "# Setup the hyperparameter grid, (not scaled data)\n",
    "param_grid = {'C': np.logspace(-5, 8, 15)}\n",
    "\n",
    "# Instantiate a logistic regression classifier\n",
    "logreg = LogisticRegression()\n",
    "\n",
    "# Instantiate the RandomizedSearchCV object\n",
    "logreg_cv = RandomizedSearchCV(logreg,param_grid , cv=5, random_state=0)\n",
    "\n",
    "# Fit it to the data\n",
    "logreg_cv.fit(X_train, y_train)\n",
    "\n",
    "# Print the tuned parameters and score\n",
    "print(\"Tuned Logistic Regression Parameters: {}\".format(logreg_cv.best_params_)) \n",
    "\n",
    "\n",
    "LR = LogisticRegression(C=0.00005, random_state=0)\n",
    "LR.fit(X_train, y_train)\n",
    "y_pred = LR.predict(X_test)\n",
    "print('Accuracy:', metrics.accuracy_score(y_pred,y_test))\n",
    "\n",
    "## 5-fold cross-validation \n",
    "cv_scores =cross_val_score(LR, X, y, cv=5)\n",
    "\n",
    "# Print the 5-fold cross-validation scores\n",
    "print()\n",
    "print(classification_report(y_test, y_pred))\n",
    "print()\n",
    "print(\"Average 5-Fold CV Score: {}\".format(round(np.mean(cv_scores),4)),\n",
    "      \", Standard deviation: {}\".format(round(np.std(cv_scores),4)))\n",
    "\n",
    "plt.figure(figsize=(4,3))\n",
    "ConfMatrix = confusion_matrix(y_test,LR.predict(X_test))\n",
    "sns.heatmap(ConfMatrix,annot=True, cmap=\"Blues\", fmt=\"d\", \n",
    "            xticklabels = ['Non-default', 'Default'], \n",
    "            yticklabels = ['Non-default', 'Default'])\n",
    "plt.ylabel('True label')\n",
    "plt.xlabel('Predicted label')\n",
    "plt.title(\"Confusion Matrix - Logistic Regression\");"
   ]
  },
  {
   "cell_type": "markdown",
   "id": "dominant-registrar",
   "metadata": {},
   "source": [
    "### Random Forest Classifier\n",
    "* GINI = 2 * (AUC) - 1"
   ]
  },
  {
   "cell_type": "code",
   "execution_count": 13,
   "id": "banner-executive",
   "metadata": {},
   "outputs": [
    {
     "data": {
      "image/png": "[encoded data removed]",
      "text/plain": [
       "<Figure size 504x288 with 1 Axes>"
      ]
     },
     "metadata": {
      "needs_background": "light"
     },
     "output_type": "display_data"
    },
    {
     "data": {
      "image/png": "[encoded data removed]",
      "text/plain": [
       "<Figure size 360x360 with 2 Axes>"
      ]
     },
     "metadata": {
      "needs_background": "light"
     },
     "output_type": "display_data"
    },
    {
     "name": "stdout",
     "output_type": "stream",
     "text": [
      "The area under ROCs curve: 0.5082625021935531\n"
     ]
    }
   ],
   "source": [
    "#VALIDATION\n",
    "VALID_SIZE = 0.20 # simple validation using train_test_split\n",
    "\n",
    "#CROSS-VALIDATION\n",
    "NUMBER_KFOLDS = 5 #number of KFolds for cross-validation\n",
    "\n",
    "RANDOM_STATE = 2018\n",
    "\n",
    "MAX_ROUNDS = 1000 #lgb iterations\n",
    "EARLY_STOP = 50 #lgb early stop \n",
    "OPT_ROUNDS = 1000  #To be adjusted based on best validation rounds\n",
    "VERBOSE_EVAL = 50 #Print out metric result\n",
    "\n",
    "#RANDOMFORESTCLASSIFIER\n",
    "RFC_METRIC = 'gini'  #metric used as 2*(AUC)-1\n",
    "NUM_ESTIMATORS = 100 #number of estimators\n",
    "NO_JOBS = 4 #number of parallel jobs\n",
    "\n",
    "# Split data in train and validation set\n",
    "train_df, val_df = train_test_split(df_tratado, test_size=VALID_SIZE, random_state=RANDOM_STATE, shuffle=True )\n",
    "\n",
    "# Initializing the Random Forest Classifier\n",
    "clf = RandomForestClassifier(n_jobs=NO_JOBS, \n",
    "                             random_state=RANDOM_STATE,\n",
    "                             criterion=RFC_METRIC,\n",
    "                             n_estimators=NUM_ESTIMATORS,\n",
    "                             verbose=False)\n",
    "\n",
    "# Features importance\n",
    "target = 'default' # supervised\n",
    "predictors = ['risk', 'var_a', 'var_b', 'var_c', 'var_d', 'var_e', 'var_f', \n",
    "              'borrowed', 'months', 'income', 'state', 'zipcode', 'channel',\n",
    "              'real_state', 'n_bankruptcies', 'n_defaulted_loans', 'n_accounts']\n",
    "\n",
    "clf.fit(train_df[predictors], train_df[target].values)\n",
    "\n",
    "preds = clf.predict(val_df[predictors])\n",
    "\n",
    "# Plot Feature Importance\n",
    "tmp = pd.DataFrame({'Feature': predictors, 'Feature importance': clf.feature_importances_})\n",
    "tmp = tmp.sort_values(by='Feature importance',ascending=False)\n",
    "plt.figure(figsize = (7,4))\n",
    "plt.title('Features importance',fontsize=14)\n",
    "s = sns.barplot(x='Feature',y='Feature importance',data=tmp, palette='Reds_d')\n",
    "s.set_xticklabels(s.get_xticklabels(),rotation=90)\n",
    "plt.show()\n",
    "\n",
    "# Plot the Confusion Matrix\n",
    "cm = pd.crosstab(val_df[target].values, preds, rownames=['Real'], colnames=['Predito'])\n",
    "fig, (ax1) = plt.subplots(ncols=1, figsize=(5,5))\n",
    "sns.heatmap(cm, \n",
    "            xticklabels=['Not Default', 'Default'],\n",
    "            yticklabels=['Not Default', 'Default'],\n",
    "            annot=True,ax=ax1,\n",
    "            linewidths=.2,linecolor=\"Darkblue\", cmap=\"Blues\")\n",
    "plt.title('Confusion Matrix')\n",
    "plt.show()\n",
    "\n",
    "# The area under curve (receiver operator characteristic)\n",
    "print('The area under ROCs curve: {}'.format(roc_auc_score(val_df[target].values, preds)))"
   ]
  },
  {
   "cell_type": "markdown",
   "id": "humanitarian-module",
   "metadata": {},
   "source": [
    "### XGBoost\n",
    "XGBoost is a decision-tree-based ensemble Machine Learning algorithm that uses a gradient boosting framework"
   ]
  },
  {
   "cell_type": "code",
   "execution_count": 14,
   "id": "labeled-breast",
   "metadata": {},
   "outputs": [
    {
     "name": "stdout",
     "output_type": "stream",
     "text": [
      "[16:01:36] WARNING: ..\\src\\learner.cc:541: \n",
      "Parameters: { silent } might not be used.\n",
      "\n",
      "  This may not be accurate due to some parameters are only used in language bindings but\n",
      "  passed down to XGBoost core.  Or some parameters are not used but slip through this\n",
      "  verification. Please open an issue if you find above cases.\n",
      "\n",
      "\n",
      "[0]\ttrain-auc:0.63375\tvalid-auc:0.64361\n",
      "[50]\ttrain-auc:0.66559\tvalid-auc:0.67500\n",
      "[100]\ttrain-auc:0.68454\tvalid-auc:0.69367\n",
      "[150]\ttrain-auc:0.69010\tvalid-auc:0.69800\n",
      "[200]\ttrain-auc:0.69322\tvalid-auc:0.69965\n",
      "[250]\ttrain-auc:0.69569\tvalid-auc:0.70032\n",
      "[300]\ttrain-auc:0.69741\tvalid-auc:0.70037\n",
      "[308]\ttrain-auc:0.69769\tvalid-auc:0.70028\n"
     ]
    },
    {
     "data": {
      "image/png": "[encoded data removed]",
      "text/plain": [
       "<Figure size 576x360 with 1 Axes>"
      ]
     },
     "metadata": {
      "needs_background": "light"
     },
     "output_type": "display_data"
    }
   ],
   "source": [
    "import xgboost as xgb\n",
    "\n",
    "#VALIDATION\n",
    "VALID_SIZE = 0.20 # simple validation using train_test_split\n",
    "\n",
    "#CROSS-VALIDATION\n",
    "NUMBER_KFOLDS = 5 #number of KFolds for cross-validation\n",
    "\n",
    "RANDOM_STATE = 2018\n",
    "\n",
    "MAX_ROUNDS = 1000 #lgb iterations\n",
    "EARLY_STOP = 50 #lgb early stop \n",
    "OPT_ROUNDS = 1000  #To be adjusted based on best validation rounds\n",
    "VERBOSE_EVAL = 50 #Print out metric result\n",
    "\n",
    "# Split data in train and validation set\n",
    "train_df, val_df = train_test_split(df_tratado, test_size=VALID_SIZE, random_state=RANDOM_STATE, shuffle=True )\n",
    "\n",
    "# Prepare the train and valid datasets\n",
    "dtrain = xgb.DMatrix(train_df[predictors], train_df[target].values)\n",
    "dvalid = xgb.DMatrix(val_df[predictors], val_df[target].values)\n",
    "\n",
    "#What to monitor (in this case, **train** and **valid**)\n",
    "watchlist = [(dtrain, 'train'), (dvalid, 'valid')]\n",
    "\n",
    "# Set xgboost parameters\n",
    "params = {}\n",
    "params['objective'] = 'binary:logistic'\n",
    "params['eta'] = 0.039\n",
    "params['silent'] = True\n",
    "params['max_depth'] = 2\n",
    "params['subsample'] = 0.8\n",
    "params['colsample_bytree'] = 0.9\n",
    "params['eval_metric'] = 'auc'\n",
    "params['random_state'] = RANDOM_STATE\n",
    "\n",
    "# Train the model\n",
    "model = xgb.train(params, \n",
    "                dtrain, \n",
    "                MAX_ROUNDS, \n",
    "                watchlist, \n",
    "                early_stopping_rounds=EARLY_STOP, \n",
    "                maximize=True, \n",
    "                verbose_eval=VERBOSE_EVAL)\n",
    "\n",
    "# Plot variable importance\n",
    "fig, (ax) = plt.subplots(ncols=1, figsize=(8,5))\n",
    "xgb.plot_importance(model, height=0.8, title=\"Features Importantes (XGBoost)\", ax=ax, color=\"blue\") \n",
    "plt.show()"
   ]
  },
  {
   "cell_type": "markdown",
   "id": "colonial-conflict",
   "metadata": {},
   "source": [
    "## Conclusão\n",
    "1. Melhorar o processo de tratamento de dados;\n",
    "2. Verificar melhores parâmetros para os modelos aplicados;\n",
    "3. Retomar análise dos atributos e id's descartados, nova hipótese;\n",
    "4. Observar a relação entre as variáveis como 'sex', 'default' e 'risk';\n",
    "5. Observar a relação entre as variáveis 'default', 'no_job' e demais atributos que inclusive não foram considerados ainda."
   ]
  },
  {
   "cell_type": "markdown",
   "id": "differential-mineral",
   "metadata": {},
   "source": [
    "## Apêndice"
   ]
  },
  {
   "cell_type": "markdown",
   "id": "answering-vampire",
   "metadata": {},
   "source": [
    "#### <b>Piechart: Default</b>"
   ]
  },
  {
   "cell_type": "code",
   "execution_count": 15,
   "id": "developed-chair",
   "metadata": {},
   "outputs": [
    {
     "data": {
      "image/png": "[encoded data removed]",
      "text/plain": [
       "<Figure size 432x288 with 1 Axes>"
      ]
     },
     "metadata": {},
     "output_type": "display_data"
    }
   ],
   "source": [
    "# Pie chart, where the slices will be ordered and plotted counter-clockwise:\n",
    "labels = 'Default: 1', 'Not-Default: 0'\n",
    "sizes = [100*df_tratado['default'].sum()/df_tratado.shape[0], \n",
    "         100*(df_tratado.shape[0]-df_tratado['default'].sum())/df_tratado.shape[0]]\n",
    "explode = (0, 0.1)  # only \"explode\" the 2nd slice (i.e. 'Hogs')\n",
    "\n",
    "fig1, ax1 = plt.subplots()\n",
    "plt.title('Default (1) x Not-Default (0)', font={'size': 14, 'weight': 'bold'})\n",
    "ax1.pie(sizes, explode=explode, labels=labels, autopct='%1.1f%%',\n",
    "        shadow=True, startangle=90)\n",
    "ax1.axis('equal')  # Equal aspect ratio ensures that pie is drawn as a circle.\n",
    "\n",
    "plt.show()"
   ]
  },
  {
   "cell_type": "markdown",
   "id": "manufactured-dragon",
   "metadata": {},
   "source": [
    "#### <b>Boxplot: Sex x Risk</b>"
   ]
  },
  {
   "cell_type": "code",
   "execution_count": 21,
   "id": "worth-reception",
   "metadata": {},
   "outputs": [
    {
     "data": {
      "image/png": "[encoded data removed]",
      "text/plain": [
       "<Figure size 432x288 with 1 Axes>"
      ]
     },
     "metadata": {
      "needs_background": "light"
     },
     "output_type": "display_data"
    }
   ],
   "source": [
    "# Boxplot\n",
    "sns.boxplot(x='sex', y='risk', data=df_tratado)\n",
    "plt.grid(color='grey', linestyle='--', linewidth=0.5)\n",
    "plt.title('BoxPlot: Sex x Risk')\n",
    "plt.xlabel('sex')\n",
    "plt.ylabel('risk')\n",
    "plt.show()"
   ]
  },
  {
   "cell_type": "markdown",
   "id": "spatial-tower",
   "metadata": {},
   "source": [
    "#### Heatmap\n",
    "* Verificar correlações entre as variáveis"
   ]
  },
  {
   "cell_type": "code",
   "execution_count": 27,
   "id": "applied-complex",
   "metadata": {},
   "outputs": [
    {
     "data": {
      "image/png": "[encoded data removed]",
      "text/plain": [
       "<Figure size 1152x576 with 2 Axes>"
      ]
     },
     "metadata": {
      "needs_background": "light"
     },
     "output_type": "display_data"
    }
   ],
   "source": [
    "#Correlation Matrix Heatmap\n",
    "f, ax = plt.subplots(figsize=(16, 8))\n",
    "sns.set(font_scale=1.)\n",
    "corr = df_tratado.corr()\n",
    "hm = sns.heatmap(round(corr,2), annot=True, ax=ax, cmap=\"coolwarm\",fmt='.1f', linewidths=.05)\n",
    "f.subplots_adjust(top=0.93)\n",
    "t = f.suptitle('Correlação Heatmap', fontsize=20)"
   ]
  }
 ],
 "metadata": {
  "kernelspec": {
   "display_name": "Python 3",
   "language": "python",
   "name": "python3"
  },
  "language_info": {
   "codemirror_mode": {
    "name": "ipython",
    "version": 3
   },
   "file_extension": ".py",
   "mimetype": "text/x-python",
   "name": "python",
   "nbconvert_exporter": "python",
   "pygments_lexer": "ipython3",
   "version": "3.9.2"
  }
 },
 "nbformat": 4,
 "nbformat_minor": 5
}
